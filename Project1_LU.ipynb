{
 "cells": [
  {
   "cell_type": "code",
   "execution_count": null,
   "metadata": {
    "collapsed": false
   },
   "outputs": [],
   "source": [
    "%matplotlib inline\n",
    "import scipy.linalg\n",
    "import numpy as np\n",
    "import math\n",
    "import time\n",
    "import matplotlib.pyplot as plt\n",
    "tim=[]\n",
    "count=0\n",
    "#function taken from http://stackoverflow.com/questions/5842903/block-tridiagonal-matrix-python\n",
    "def tridiag(a, b, c, k1=-1, k2=0, k3=1):\n",
    "    return np.diag(a, k1) + np.diag(b, k2) + np.diag(c, k3)\n",
    "def time_take():\n",
    "    lim=5\n",
    "    time_array = np.zeros(lim)\n",
    "    n_array = np.zeros(lim)\n",
    "\n",
    "    for i in range(1, lim):\n",
    "        #start time\n",
    "        n = 10 ** i\n",
    "        n_array[i-1] = (np.log10(n))\n",
    "        a = [-1] * (n-1)\n",
    "        b = [2] * n\n",
    "        c = [-1] * (n-1)\n",
    "        tic = time.clock()\n",
    "        A = tridiag(a, b, c)\n",
    "        B=scipy.linalg.lu(A)\n",
    "        toc=time.clock()\n",
    "        delta_t=toc-tic\n",
    "        if delta_t<.02:\n",
    "            continue\n",
    "        tim.append(delta_t)\n",
    "        #end time\n",
    "\n",
    "    #should take a min; plot still doesn't make sense\n",
    "    plt.scatter(np.arange(len(tim)),tim)\n",
    "    return B\n",
    "for i in range(0,100):\n",
    "    B=time_take()\n",
    "print(\"The LU decomposition takes a time of :\", sum(tim)/len(tim))\n"
   ]
  },
  {
   "cell_type": "markdown",
   "metadata": {
    "collapsed": true
   },
   "source": [
    "To make this matrix, we actually took some code from online to initialize the tridiagonal matrix [here](http://stackoverflow.com/questions/5842903/block-tridiagonal-matrix-python). Basically what the code does is it doesn't make a matrix, as a nxn matrix would take a massive amount of memory, so it creates 3 arrays, which correspond to the 3 diagonals that have non-zero numbers within the tridagonal matrix. Much of the code is actually to create the matrix, and there is a module in numpy which actually does the LU-decomposition, so we didn't have to hard code the process in. But to see how long this process takes, we used the time.clock function from the time module and took the difference in times between the end of initializing the matrix and completing the LU-decomposition process. Then we ran the code 100 times and made a scatter plot of the time this took. We took the average time and found that to make a 1000x1000 matrix, it took an average of about .06 s to complete the code."
   ]
  },
  {
   "cell_type": "markdown",
   "metadata": {},
   "source": []
  },
  {
   "cell_type": "code",
   "execution_count": null,
   "metadata": {
    "collapsed": true
   },
   "outputs": [],
   "source": []
  }
 ],
 "metadata": {
  "anaconda-cloud": {},
  "kernelspec": {
   "display_name": "Python [conda root]",
   "language": "python",
   "name": "conda-root-py"
  },
  "language_info": {
   "codemirror_mode": {
    "name": "ipython",
    "version": 3
   },
   "file_extension": ".py",
   "mimetype": "text/x-python",
   "name": "python",
   "nbconvert_exporter": "python",
   "pygments_lexer": "ipython3",
   "version": "3.5.2"
  }
 },
 "nbformat": 4,
 "nbformat_minor": 1
}
